{
 "cells": [
  {
   "cell_type": "code",
   "execution_count": 37,
   "id": "853d389d",
   "metadata": {},
   "outputs": [],
   "source": [
    "import pandas as pd\n",
    "import numpy as np\n",
    "import matplotlib.pyplot as plt\n",
    "from sklearn.linear_model import LinearRegression\n",
    "import datetime as dt"
   ]
  },
  {
   "cell_type": "code",
   "execution_count": 38,
   "id": "01decda3",
   "metadata": {},
   "outputs": [],
   "source": [
    "df1 = pd.read_csv('3.csv')\n",
    "df2= pd.read_csv('all_data.csv')"
   ]
  },
  {
   "cell_type": "code",
   "execution_count": 39,
   "id": "a003fb5c",
   "metadata": {},
   "outputs": [
    {
     "data": {
      "text/plain": [
       "pandas._libs.tslibs.timestamps.Timestamp"
      ]
     },
     "execution_count": 39,
     "metadata": {},
     "output_type": "execute_result"
    }
   ],
   "source": [
    "type(df.created_at[0])"
   ]
  },
  {
   "cell_type": "code",
   "execution_count": 40,
   "id": "30e581dd",
   "metadata": {},
   "outputs": [],
   "source": [
    "df = pd.concat([df1, df2], ignore_index=True)\n",
    "\n",
    "df = df.sort_values(by='created_at')\n",
    "df.reset_index(drop=True, inplace=True)\n",
    "df['entry_id'] = range(1, len(df) + 1)\n",
    "\n",
    "df['created_at'] = pd.to_datetime(df['created_at'])\n",
    "df['date'] = df['created_at'].dt.date\n",
    "df['day'] = df['created_at'].dt.day\n",
    "df['month'] = df['created_at'].dt.month\n",
    "df['year'] = df['created_at'].dt.year\n",
    "df['field3'] = abs(df['field3']/1000).round(decimals=2)\n",
    "df['Cost_in_\\u20B9'] = df['field3']*6.25\n",
    "df = df.rename(columns={'entry_id' : 'ON_records', 'field3' : 'Units', 'month' : 'Months', 'date' : 'Dates'})"
   ]
  },
  {
   "cell_type": "code",
   "execution_count": 47,
   "id": "45cbca81",
   "metadata": {},
   "outputs": [
    {
     "data": {
      "text/plain": [
       "numpy.int64"
      ]
     },
     "execution_count": 47,
     "metadata": {},
     "output_type": "execute_result"
    }
   ],
   "source": [
    "df.created_at = pd.to_numeric(df['created_at'])\n",
    "type(df.created_at[0])"
   ]
  },
  {
   "cell_type": "code",
   "execution_count": 52,
   "id": "ce53a400",
   "metadata": {},
   "outputs": [
    {
     "data": {
      "text/html": [
       "<div>\n",
       "<style scoped>\n",
       "    .dataframe tbody tr th:only-of-type {\n",
       "        vertical-align: middle;\n",
       "    }\n",
       "\n",
       "    .dataframe tbody tr th {\n",
       "        vertical-align: top;\n",
       "    }\n",
       "\n",
       "    .dataframe thead th {\n",
       "        text-align: right;\n",
       "    }\n",
       "</style>\n",
       "<table border=\"1\" class=\"dataframe\">\n",
       "  <thead>\n",
       "    <tr style=\"text-align: right;\">\n",
       "      <th></th>\n",
       "      <th>created_at</th>\n",
       "      <th>ON_records</th>\n",
       "      <th>Units</th>\n",
       "      <th>Dates</th>\n",
       "      <th>day</th>\n",
       "      <th>Months</th>\n",
       "      <th>year</th>\n",
       "      <th>Cost_in_₹</th>\n",
       "    </tr>\n",
       "  </thead>\n",
       "  <tbody>\n",
       "    <tr>\n",
       "      <th>0</th>\n",
       "      <td>1706832000000000000</td>\n",
       "      <td>1</td>\n",
       "      <td>4.12</td>\n",
       "      <td>2024-02-02</td>\n",
       "      <td>2</td>\n",
       "      <td>2</td>\n",
       "      <td>2024</td>\n",
       "      <td>25.7500</td>\n",
       "    </tr>\n",
       "    <tr>\n",
       "      <th>1</th>\n",
       "      <td>1707094800000000000</td>\n",
       "      <td>2</td>\n",
       "      <td>1.50</td>\n",
       "      <td>2024-02-05</td>\n",
       "      <td>5</td>\n",
       "      <td>2</td>\n",
       "      <td>2024</td>\n",
       "      <td>9.3750</td>\n",
       "    </tr>\n",
       "    <tr>\n",
       "      <th>2</th>\n",
       "      <td>1707616800000000000</td>\n",
       "      <td>3</td>\n",
       "      <td>3.52</td>\n",
       "      <td>2024-02-11</td>\n",
       "      <td>11</td>\n",
       "      <td>2</td>\n",
       "      <td>2024</td>\n",
       "      <td>22.0000</td>\n",
       "    </tr>\n",
       "    <tr>\n",
       "      <th>3</th>\n",
       "      <td>1707706800000000000</td>\n",
       "      <td>4</td>\n",
       "      <td>3.29</td>\n",
       "      <td>2024-02-12</td>\n",
       "      <td>12</td>\n",
       "      <td>2</td>\n",
       "      <td>2024</td>\n",
       "      <td>20.5625</td>\n",
       "    </tr>\n",
       "    <tr>\n",
       "      <th>4</th>\n",
       "      <td>1707796800000000000</td>\n",
       "      <td>5</td>\n",
       "      <td>2.40</td>\n",
       "      <td>2024-02-13</td>\n",
       "      <td>13</td>\n",
       "      <td>2</td>\n",
       "      <td>2024</td>\n",
       "      <td>15.0000</td>\n",
       "    </tr>\n",
       "    <tr>\n",
       "      <th>...</th>\n",
       "      <td>...</td>\n",
       "      <td>...</td>\n",
       "      <td>...</td>\n",
       "      <td>...</td>\n",
       "      <td>...</td>\n",
       "      <td>...</td>\n",
       "      <td>...</td>\n",
       "      <td>...</td>\n",
       "    </tr>\n",
       "    <tr>\n",
       "      <th>98</th>\n",
       "      <td>1716462300000000000</td>\n",
       "      <td>99</td>\n",
       "      <td>0.26</td>\n",
       "      <td>2024-05-23</td>\n",
       "      <td>23</td>\n",
       "      <td>5</td>\n",
       "      <td>2024</td>\n",
       "      <td>1.6250</td>\n",
       "    </tr>\n",
       "    <tr>\n",
       "      <th>99</th>\n",
       "      <td>1716462553000000000</td>\n",
       "      <td>100</td>\n",
       "      <td>0.29</td>\n",
       "      <td>2024-05-23</td>\n",
       "      <td>23</td>\n",
       "      <td>5</td>\n",
       "      <td>2024</td>\n",
       "      <td>1.8125</td>\n",
       "    </tr>\n",
       "    <tr>\n",
       "      <th>100</th>\n",
       "      <td>1716462667000000000</td>\n",
       "      <td>101</td>\n",
       "      <td>0.00</td>\n",
       "      <td>2024-05-23</td>\n",
       "      <td>23</td>\n",
       "      <td>5</td>\n",
       "      <td>2024</td>\n",
       "      <td>0.0000</td>\n",
       "    </tr>\n",
       "    <tr>\n",
       "      <th>101</th>\n",
       "      <td>1716463024000000000</td>\n",
       "      <td>102</td>\n",
       "      <td>0.16</td>\n",
       "      <td>2024-05-23</td>\n",
       "      <td>23</td>\n",
       "      <td>5</td>\n",
       "      <td>2024</td>\n",
       "      <td>1.0000</td>\n",
       "    </tr>\n",
       "    <tr>\n",
       "      <th>102</th>\n",
       "      <td>1716463041000000000</td>\n",
       "      <td>103</td>\n",
       "      <td>0.28</td>\n",
       "      <td>2024-05-23</td>\n",
       "      <td>23</td>\n",
       "      <td>5</td>\n",
       "      <td>2024</td>\n",
       "      <td>1.7500</td>\n",
       "    </tr>\n",
       "  </tbody>\n",
       "</table>\n",
       "<p>103 rows × 8 columns</p>\n",
       "</div>"
      ],
      "text/plain": [
       "              created_at  ON_records  Units       Dates  day  Months  year  \\\n",
       "0    1706832000000000000           1   4.12  2024-02-02    2       2  2024   \n",
       "1    1707094800000000000           2   1.50  2024-02-05    5       2  2024   \n",
       "2    1707616800000000000           3   3.52  2024-02-11   11       2  2024   \n",
       "3    1707706800000000000           4   3.29  2024-02-12   12       2  2024   \n",
       "4    1707796800000000000           5   2.40  2024-02-13   13       2  2024   \n",
       "..                   ...         ...    ...         ...  ...     ...   ...   \n",
       "98   1716462300000000000          99   0.26  2024-05-23   23       5  2024   \n",
       "99   1716462553000000000         100   0.29  2024-05-23   23       5  2024   \n",
       "100  1716462667000000000         101   0.00  2024-05-23   23       5  2024   \n",
       "101  1716463024000000000         102   0.16  2024-05-23   23       5  2024   \n",
       "102  1716463041000000000         103   0.28  2024-05-23   23       5  2024   \n",
       "\n",
       "     Cost_in_₹  \n",
       "0      25.7500  \n",
       "1       9.3750  \n",
       "2      22.0000  \n",
       "3      20.5625  \n",
       "4      15.0000  \n",
       "..         ...  \n",
       "98      1.6250  \n",
       "99      1.8125  \n",
       "100     0.0000  \n",
       "101     1.0000  \n",
       "102     1.7500  \n",
       "\n",
       "[103 rows x 8 columns]"
      ]
     },
     "execution_count": 52,
     "metadata": {},
     "output_type": "execute_result"
    }
   ],
   "source": [
    "df"
   ]
  },
  {
   "cell_type": "code",
   "execution_count": 54,
   "id": "3ff5330e",
   "metadata": {},
   "outputs": [
    {
     "data": {
      "text/plain": [
       "LinearRegression()"
      ]
     },
     "execution_count": 54,
     "metadata": {},
     "output_type": "execute_result"
    }
   ],
   "source": [
    "reg = LinearRegression()\n",
    "reg.fit(df[['created_at']], df['Cost_in_₹'])"
   ]
  },
  {
   "cell_type": "code",
   "execution_count": 55,
   "id": "4725cacb",
   "metadata": {},
   "outputs": [
    {
     "data": {
      "text/plain": [
       "array([-1.51860905e-15])"
      ]
     },
     "execution_count": 55,
     "metadata": {},
     "output_type": "execute_result"
    }
   ],
   "source": [
    "reg.coef_"
   ]
  },
  {
   "cell_type": "code",
   "execution_count": 56,
   "id": "a1717778",
   "metadata": {},
   "outputs": [
    {
     "data": {
      "text/plain": [
       "2609.7263703740928"
      ]
     },
     "execution_count": 56,
     "metadata": {},
     "output_type": "execute_result"
    }
   ],
   "source": [
    "reg.intercept_"
   ]
  },
  {
   "cell_type": "code",
   "execution_count": 57,
   "id": "dec6f3dd",
   "metadata": {},
   "outputs": [
    {
     "name": "stderr",
     "output_type": "stream",
     "text": [
      "C:\\Users\\Shreyas\\anaconda3\\lib\\site-packages\\sklearn\\base.py:450: UserWarning: X does not have valid feature names, but LinearRegression was fitted with feature names\n",
      "  warnings.warn(\n"
     ]
    },
    {
     "data": {
      "text/plain": [
       "array([-12.09603445])"
      ]
     },
     "execution_count": 57,
     "metadata": {},
     "output_type": "execute_result"
    }
   ],
   "source": [
    "reg.predict([[1726463041000000000]])"
   ]
  },
  {
   "cell_type": "code",
   "execution_count": null,
   "id": "855467e0",
   "metadata": {},
   "outputs": [],
   "source": []
  }
 ],
 "metadata": {
  "kernelspec": {
   "display_name": "Python 3 (ipykernel)",
   "language": "python",
   "name": "python3"
  },
  "language_info": {
   "codemirror_mode": {
    "name": "ipython",
    "version": 3
   },
   "file_extension": ".py",
   "mimetype": "text/x-python",
   "name": "python",
   "nbconvert_exporter": "python",
   "pygments_lexer": "ipython3",
   "version": "3.9.13"
  }
 },
 "nbformat": 4,
 "nbformat_minor": 5
}
